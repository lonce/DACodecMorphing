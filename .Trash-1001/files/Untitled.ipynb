{
 "cells": [
  {
   "cell_type": "markdown",
   "id": "1fc097b5-8866-470a-a545-99311b2aa26d",
   "metadata": {},
   "source": [
    "### <font color='blue'> Looking at DAC files \n",
    "* encoded with DAC (off line) using this command:\n",
    "```\n",
    "python3 -m dac encode  /scratch/syntex/PisWinAppBee_long_44/audio-train  --output /scratch/syntex/PisWinAppBee_long_44/dac-train --n_quantizers 4 --device \"cuda\"  --model_type \"44khz\" --model_tag \"latest\" --args.save /scratch/syntex/PisWinAppBee_long_44/dac_params.txt\n",
    "```\n",
    "</font>"
   ]
  },
  {
   "cell_type": "code",
   "execution_count": null,
   "id": "c11594a8-2c30-47c6-a0bd-359906138e54",
   "metadata": {},
   "outputs": [],
   "source": [
    "%pwd\n",
    "%cd /app\n",
    "\n",
    "import dac\n",
    "from audiotools import AudioSignal\n",
    "\n",
    "import torch\n",
    "import numpy as np\n",
    "import matplotlib.pyplot as plt\n",
    "import soundfile as sf\n",
    "import IPython.display as ipd\n",
    "import math"
   ]
  },
  {
   "cell_type": "code",
   "execution_count": 2,
   "id": "6600954d-6a3e-422c-b89e-2d8131d94727",
   "metadata": {},
   "outputs": [
    {
     "name": "stdout",
     "output_type": "stream",
     "text": [
      "There are 2 cuda devices available\n",
      "device is cuda\n",
      "memeory on cuda is  25.216745472\n"
     ]
    }
   ],
   "source": [
    "print(f'There are {torch.cuda.device_count()} cuda devices available')\n",
    "device = torch.device('cuda') # if the docker was started with --gpus all, then can choose here with cuda:0 (or cpu)\n",
    "print(f'device is {device}')\n",
    "print(f'memeory on cuda is  {torch.cuda.get_device_properties(0).total_memory/1e9}')"
   ]
  },
  {
   "cell_type": "code",
   "execution_count": 3,
   "id": "fcc578f0-a85e-44d6-9514-e50ba5187ad1",
   "metadata": {},
   "outputs": [],
   "source": [
    "model_path = dac.utils.download(model_type=\"44khz\") \n",
    "model = dac.DAC.load(model_path)\n",
    "\n",
    "model.to(device); #wanna see the model? remove the semicolon\n",
    "model.eval();  # need to be \"in eval mode\" in order to set the number of quantizers"
   ]
  },
  {
   "cell_type": "markdown",
   "id": "a584c4b7-f02d-4d3d-8005-c9d6613a8286",
   "metadata": {},
   "source": [
    "<hr>"
   ]
  },
  {
   "cell_type": "code",
   "execution_count": 15,
   "id": "09c98327-b601-4f30-9e51-ddba9bacd28d",
   "metadata": {},
   "outputs": [],
   "source": [
    "dacdir= \"/scratch/syntex/PisWinAppBee_long_44/dac-train\"\n",
    "fname=\"DSPistons--rate_exp-00.20--c-00--x-80.dac\"\n",
    "fpath=dacdir+\"/\"+fname"
   ]
  },
  {
   "cell_type": "markdown",
   "id": "e2f0b5ac-d79d-4db6-9443-87469ffec10e",
   "metadata": {},
   "source": [
    "<hr>"
   ]
  },
  {
   "cell_type": "code",
   "execution_count": 16,
   "id": "0cd45ca2-5280-40cc-9abb-dc85bd0b43f9",
   "metadata": {},
   "outputs": [
    {
     "name": "stdout",
     "output_type": "stream",
     "text": [
      "dacfile.codes shape is: torch.Size([1, 4, 431])\n"
     ]
    }
   ],
   "source": [
    "with torch.no_grad():    \n",
    "    dacfile = dac.DACFile.load(fpath)\n",
    "    # FIRST - Decompress it back to an AudioSignal\\ from codes to z (1024) to signal   \n",
    "    print(f'dacfile.codes shape is: {dacfile.codes.shape}')\n"
   ]
  },
  {
   "cell_type": "code",
   "execution_count": null,
   "id": "e52195d7-6053-49cc-b480-a80771bd9be4",
   "metadata": {},
   "outputs": [],
   "source": []
  }
 ],
 "metadata": {
  "kernelspec": {
   "display_name": "Python 3 (ipykernel)",
   "language": "python",
   "name": "python3"
  },
  "language_info": {
   "codemirror_mode": {
    "name": "ipython",
    "version": 3
   },
   "file_extension": ".py",
   "mimetype": "text/x-python",
   "name": "python",
   "nbconvert_exporter": "python",
   "pygments_lexer": "ipython3",
   "version": "3.10.11"
  }
 },
 "nbformat": 4,
 "nbformat_minor": 5
}
