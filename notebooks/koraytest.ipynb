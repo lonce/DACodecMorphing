{
 "cells": [
  {
   "cell_type": "code",
   "execution_count": 1,
   "id": "06459916-4bc3-410d-812d-7632f344c9f7",
   "metadata": {},
   "outputs": [
    {
     "name": "stdout",
     "output_type": "stream",
     "text": [
      "/app\n"
     ]
    }
   ],
   "source": [
    "%pwd\n",
    "%cd /app\n",
    "\n",
    "import dac\n",
    "from audiotools import AudioSignal\n",
    "\n",
    "import torch\n",
    "\n",
    "import numpy as np\n",
    "import matplotlib.pyplot as plt\n",
    "# import soundfile as sf\n",
    "# import IPython.display as ipd"
   ]
  },
  {
   "cell_type": "code",
   "execution_count": 2,
   "id": "9e8cbbc7-06cc-4c6a-8fac-ed05421bf146",
   "metadata": {},
   "outputs": [
    {
     "name": "stdout",
     "output_type": "stream",
     "text": [
      "memeory on cuda 0 is  25.216745472\n",
      "memeory on cuda 1 is  25.214386176\n"
     ]
    },
    {
     "data": {
      "text/plain": [
       "device(type='cuda', index=0)"
      ]
     },
     "execution_count": 2,
     "metadata": {},
     "output_type": "execute_result"
    }
   ],
   "source": [
    "torch.cuda.device_count()\n",
    "print(f'memeory on cuda 0 is  {torch.cuda.get_device_properties(0).total_memory/1e9}')\n",
    "print(f'memeory on cuda 1 is  { torch.cuda.get_device_properties(1).total_memory/1e9}')\n",
    "device = torch.device(\"cuda:0\") # if the docker was started with --gpus all, then can choose here.\n",
    "device"
   ]
  },
  {
   "cell_type": "code",
   "execution_count": 3,
   "id": "2aa3a06c-a7cb-4f5d-a822-be7ce662bef7",
   "metadata": {},
   "outputs": [],
   "source": [
    "model_path = \"codecweights/weights_44_8.pth\"\n",
    "#model_path = \"codecweights/weights_16_8.pth\"\n",
    "model = dac.DAC.load(model_path)\n",
    "model.to(device); #wanna see the model? remove the semicolon"
   ]
  },
  {
   "cell_type": "code",
   "execution_count": 4,
   "id": "b388006a-9b98-4f37-b49d-b68fdb51f5ac",
   "metadata": {},
   "outputs": [],
   "source": [
    "datadir=\"/scratch/lonce/koraySegmentedSoundData/split_1sec_44k\"\n",
    "\n",
    "N_QUANTIZERS = 9  ## SEEMS TO HAVE NO EFFECT - I guess because it is a property of the pretrained model?\n",
    "\n",
    "snd1_wav ='/file0791_segment35.wav' \n",
    "\n",
    "#1) LOAD A SOUND\n",
    "snd1 = AudioSignal(datadir + snd1_wav) # 2-second sound at 16kHz\n",
    "#snd1 = snd1[0,0,: int(snd1.shape[2]/CORTADOFACTURA)] # cortado, otherwise the computation will bust memory\n",
    "\n",
    "#2) PUT IT ON THE GPU\n",
    "snd1.to(model.device)\n",
    "#3) PREPROCESS (make sure sr agrees with model, i guess)\n",
    "snd1_x = model.preprocess(snd1.audio_data, snd1.sample_rate)\n",
    "#4) ENCODE TO Z, C, and L\n",
    "snd1_z, snd1_codes, snd1_latents, _, _ = model.encode(snd1_x, N_QUANTIZERS) #model.encode(snd1_x, 4)"
   ]
  },
  {
   "cell_type": "code",
   "execution_count": 5,
   "id": "65e2271e-73ac-409c-9abe-023566a675d6",
   "metadata": {},
   "outputs": [
    {
     "name": "stdout",
     "output_type": "stream",
     "text": [
      "snd1_latents shape is: torch.Size([1, 72, 87])\n"
     ]
    }
   ],
   "source": [
    "print(f'snd1_latents shape is: {snd1_latents.shape}')"
   ]
  },
  {
   "cell_type": "code",
   "execution_count": 6,
   "id": "81e9b222-e1e6-45bf-b6e2-8a5d9ff21814",
   "metadata": {},
   "outputs": [],
   "source": [
    "ydim=snd1_latents.shape[1]\n",
    "xdim=snd1_latents.shape[2]"
   ]
  },
  {
   "cell_type": "code",
   "execution_count": 7,
   "id": "84978996-5261-48aa-9f65-68e702b6ed80",
   "metadata": {},
   "outputs": [],
   "source": [
    "\n",
    "import os\n",
    "import random\n",
    "import wave\n",
    "import numpy as np\n",
    "\n",
    "# def anal(wav_data):\n",
    "#     # Dummy implementation of the analysis function\n",
    "#     # Replace with your actual analysis logic\n",
    "#     return np.array([np.mean(wav_data), np.std(wav_data)])\n",
    "\n",
    "def read_random_wav_files(folder, n):\n",
    "    # List all .wav files in the folder\n",
    "    files = [f for f in os.listdir(folder) if f.endswith('.wav')]\n",
    "    \n",
    "    # Select n random files\n",
    "    random_files = random.sample(files, min(n, len(files)))\n",
    "\n",
    "    # Array to store the concatenated results\n",
    "    results = []\n",
    "\n",
    "    for file in random_files:\n",
    "        # Read the wav file\n",
    "        audio_data = AudioSignal(datadir + snd1_wav)\n",
    "        audio_data.to(model.device)\n",
    "        audio_data_x = model.preprocess(snd1.audio_data, snd1.sample_rate)\n",
    "        _, _, audio_data_latents, _, _ = model.encode(audio_data_x) \n",
    "\n",
    "        results.append(audio_data_latents)\n",
    "        \n",
    "    return torch.stack(results)\n",
    "    # # Concatenate all results into a tensor\n",
    "    # result_tensor = np.vstack(results)\n",
    "\n",
    "    # return result_tensor\n",
    "\n",
    "# # Example usage\n",
    "# folder_path = '/path/to/your/wav/files'\n",
    "# n = 5  # Number of random files to read\n",
    "# result_tensor = read_random_wav_files(folder_path, n)\n",
    "# print(result_tensor)\n"
   ]
  },
  {
   "cell_type": "code",
   "execution_count": 8,
   "id": "051adc42-568b-4da7-af9f-9474c6ec42ba",
   "metadata": {},
   "outputs": [
    {
     "name": "stdout",
     "output_type": "stream",
     "text": [
      "result_tensor shape is: torch.Size([4, 1, 72, 87])\n"
     ]
    }
   ],
   "source": [
    "result_tensor = read_random_wav_files(datadir, 4)\n",
    "print(f'result_tensor shape is: {result_tensor.shape}')"
   ]
  },
  {
   "cell_type": "code",
   "execution_count": null,
   "id": "daec4dc7-0ec5-451f-bc4b-00f58262b5e9",
   "metadata": {},
   "outputs": [],
   "source": []
  },
  {
   "cell_type": "code",
   "execution_count": 9,
   "id": "698f6a6a-0f28-4ef2-9abe-2b56cb582c40",
   "metadata": {},
   "outputs": [
    {
     "data": {
      "image/png": "[encoded data removed]",
      "text/plain": [
       "<Figure size 800x600 with 1 Axes>"
      ]
     },
     "metadata": {},
     "output_type": "display_data"
    }
   ],
   "source": [
    "# Flatten the tensor to 1D\n",
    "numpy_array = result_tensor.cpu().detach().numpy().flatten()\n",
    "\n",
    "# Define the number of bins\n",
    "num_bins = 100\n",
    "\n",
    "# Create a histogram using NumPy to compute bin edges and counts\n",
    "hist, bin_edges = np.histogram(numpy_array, bins=num_bins)\n",
    "\n",
    "# Compute the average values for each bin\n",
    "bin_avg_values = []\n",
    "for i in range(num_bins):\n",
    "    mask = np.logical_and(numpy_array >= bin_edges[i], numpy_array <= bin_edges[i + 1])\n",
    "    bin_avg = np.mean(numpy_array[mask]) if np.sum(mask) > 0 else 0\n",
    "    bin_avg_values.append(bin_avg)\n",
    "\n",
    "# Plot the histogram\n",
    "plt.figure(figsize=(8, 6))\n",
    "plt.hist(numpy_array, bins=num_bins)\n",
    "plt.title('Histogram of 3D Tensor Values')\n",
    "plt.xlabel('Values')\n",
    "plt.ylabel('Frequency')\n",
    "\n",
    "# Calculate positions for the labels spread across the horizontal width of the image\n",
    "# label_positionsx = np.linspace(-num_bins/2, num_bins/2, num_bins)\n",
    "# label_positionsy = linspace_v(0, np.max(hist), num_bins)\n",
    "\n",
    "#print(label_positions)\n",
    "# Annotate the plot with average values, rotating labels 90 degrees clockwise\n",
    "for i in range(num_bins):\n",
    "    label = f'{bin_avg_values[i]:.2f}'\n",
    "\n",
    "plt.grid(True)\n",
    "plt.show()"
   ]
  },
  {
   "cell_type": "code",
   "execution_count": null,
   "id": "914fa4d4-985f-4a35-9a37-02e14d067bf0",
   "metadata": {},
   "outputs": [],
   "source": []
  }
 ],
 "metadata": {
  "kernelspec": {
   "display_name": "Python 3 (ipykernel)",
   "language": "python",
   "name": "python3"
  },
  "language_info": {
   "codemirror_mode": {
    "name": "ipython",
    "version": 3
   },
   "file_extension": ".py",
   "mimetype": "text/x-python",
   "name": "python",
   "nbconvert_exporter": "python",
   "pygments_lexer": "ipython3",
   "version": "3.10.12"
  }
 },
 "nbformat": 4,
 "nbformat_minor": 5
}
