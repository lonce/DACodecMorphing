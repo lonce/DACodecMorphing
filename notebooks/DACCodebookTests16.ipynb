{
 "cells": [
  {
   "cell_type": "markdown",
   "id": "d103dbf0-ca8a-470a-8c6e-1b9add2af5cb",
   "metadata": {},
   "source": [
    "### <font color='blue'> All sounds in this notebook were: \n",
    "* synthesized 16kHz sounds\n",
    "* encoded with DAC (off line) using either 4 codebooks or 12 codebooks (as indicated in the datadir variables)  \n",
    "* Here we just load and play to compare. \n",
    "</font>"
   ]
  },
  {
   "cell_type": "code",
   "execution_count": null,
   "id": "cefaf8a9-2d4d-42a4-8370-e7ebef023786",
   "metadata": {},
   "outputs": [],
   "source": [
    "%pwd\n",
    "%cd /app"
   ]
  },
  {
   "cell_type": "code",
   "execution_count": null,
   "id": "a1c19df4-52ee-4991-b801-4fe691e49c04",
   "metadata": {},
   "outputs": [],
   "source": [
    "import dac\n",
    "from audiotools import AudioSignal"
   ]
  },
  {
   "cell_type": "code",
   "execution_count": null,
   "id": "eaed366c-31cf-4370-a6c0-7c45072b1f13",
   "metadata": {},
   "outputs": [],
   "source": [
    "import numpy as np\n",
    "import matplotlib.pyplot as plt\n",
    "import soundfile as sf\n",
    "import IPython.display as ipd"
   ]
  },
  {
   "cell_type": "code",
   "execution_count": null,
   "id": "94b1f43a-6a00-454e-9f18-8047b0c38bbd",
   "metadata": {},
   "outputs": [],
   "source": [
    "# Download a model\n",
    "model_path = dac.utils.download(model_type=\"16khz\")\n",
    "model = dac.DAC.load(model_path)\n",
    "\n",
    "model.to('cuda');"
   ]
  },
  {
   "cell_type": "markdown",
   "id": "df068751-8c52-4417-a4db-51d4fca9de6e",
   "metadata": {},
   "source": [
    "<div style=\"height: 10px; background-color: blue;\"></div>"
   ]
  },
  {
   "cell_type": "markdown",
   "id": "5a060384-56f5-4a0c-8d73-2d529df15915",
   "metadata": {},
   "source": [
    "********* sparse data is audio coded with the Descript using 4 or 12 codebook levels **********\n",
    "\n",
    "You might have to run dacdev-8 because the off-line encode/decode gets the number of bytes wrong otherwise."
   ]
  },
  {
   "cell_type": "code",
   "execution_count": null,
   "id": "3460f9b5-5c9e-48d1-a3f7-e88b8eb23ee7",
   "metadata": {},
   "outputs": [],
   "source": [
    "dataroot=\"dacdevdata\" \n",
    "# !ls {datadir}"
   ]
  },
  {
   "cell_type": "markdown",
   "id": "e5a06891-ed24-49fb-ba35-d6763e2b6f6f",
   "metadata": {},
   "source": [
    "### WIND N4, N12"
   ]
  },
  {
   "cell_type": "code",
   "execution_count": null,
   "id": "cee0aa75-6145-4e43-9a65-3fd42be2943e",
   "metadata": {},
   "outputs": [],
   "source": [
    "plt.title(\"Wind N = 4\")\n",
    "\n",
    "datadir=dataroot+\"/16kHz/N4/PisWinAppBee_sparse_recon\"\n",
    "signal = AudioSignal(datadir + '/DSWind--strength-00.50--c-01--x-01.wav') # 2-second sound at 16kHz\n",
    "print(f'signal shape is: {signal.shape}')\n",
    "signal1=signal.audio_data.cpu().detach().numpy()[0,0,:]\n",
    "plt.plot(signal1)\n",
    "\n",
    "ipd.Audio(signal1, rate=16000)\n",
    "\n"
   ]
  },
  {
   "cell_type": "code",
   "execution_count": null,
   "id": "0a4b725d-453c-45e5-945c-ef498e7c9474",
   "metadata": {},
   "outputs": [],
   "source": [
    "plt.title(\"Wind N = 12\")\n",
    "\n",
    "datadir=dataroot+\"/16kHz/N12/PisWinAppBee_sparse_recon\"\n",
    "signal = AudioSignal(datadir + '/DSWind--strength-00.50--c-01--x-01.wav') # 2-second sound at 16kHz\n",
    "print(f'signal shape is: {signal.shape}')\n",
    "signal1=signal.audio_data.cpu().detach().numpy()[0,0,:]\n",
    "plt.plot(signal1)\n",
    "ipd.Audio(signal1, rate=16000)"
   ]
  },
  {
   "cell_type": "markdown",
   "id": "b863b50b-6281-428a-8eaf-8e9baaf30f4a",
   "metadata": {},
   "source": [
    "<div style=\"height: 6px; background-color: gray;\"></div>"
   ]
  },
  {
   "cell_type": "markdown",
   "id": "f825a00b-24a9-4119-ba26-69171a1dacbb",
   "metadata": {},
   "source": [
    "### APPLAUSE N4, N12"
   ]
  },
  {
   "cell_type": "code",
   "execution_count": null,
   "id": "594f85f9-2352-491b-b5b7-60bb26898288",
   "metadata": {},
   "outputs": [],
   "source": [
    "plt.title(\"Applause N = 4\")\n",
    "\n",
    "datadir=dataroot+\"/16kHz/N4/PisWinAppBee_sparse_recon\"\n",
    "signal = AudioSignal(datadir + '/DSApplause--numClappers_exp-00.50--c-01--x-01.wav') # 2-second sound at 16kHz\n",
    "print(f'signal shape is: {signal.shape}')\n",
    "signal1=signal.audio_data.cpu().detach().numpy()[0,0,:]\n",
    "plt.plot(signal1)\n",
    "ipd.Audio(signal1, rate=16000)"
   ]
  },
  {
   "cell_type": "code",
   "execution_count": null,
   "id": "d139346a-1435-4cdd-911f-05d2b71e59f2",
   "metadata": {},
   "outputs": [],
   "source": [
    "plt.title(\"Applause N = 12\")\n",
    "\n",
    "datadir=dataroot+\"/16kHz/N12/PisWinAppBee_sparse_recon\"\n",
    "signal = AudioSignal(datadir + '/DSApplause--numClappers_exp-00.50--c-01--x-01.wav') # 2-second sound at 16kHz\n",
    "print(f'signal shape is: {signal.shape}')\n",
    "signal1=signal.audio_data.cpu().detach().numpy()[0,0,:]\n",
    "plt.plot(signal1)\n",
    "ipd.Audio(signal1, rate=16000)"
   ]
  },
  {
   "cell_type": "markdown",
   "id": "8ee355e5-2982-4ed3-b6ff-02e313ab2919",
   "metadata": {},
   "source": [
    "<div style=\"height: 6px; background-color: gray;\"></div>"
   ]
  },
  {
   "cell_type": "markdown",
   "id": "ec1e674a-a849-4191-9802-a9fd2ea078e1",
   "metadata": {},
   "source": [
    "### Pistons"
   ]
  },
  {
   "cell_type": "code",
   "execution_count": null,
   "id": "52bce511-57e5-48db-a0a5-5f97a3379dd2",
   "metadata": {},
   "outputs": [],
   "source": [
    "plt.title(\"Pistons N = 4\")\n",
    "\n",
    "datadir=dataroot+\"/16kHz/N4/PisWinAppBee_sparse_recon\"\n",
    "signal = AudioSignal(datadir + '/DSPistons--rate_exp-00.50--c-01--x-01.wav') # 2-second sound at 16kHz\n",
    "print(f'signal shape is: {signal.shape}')\n",
    "signal1=signal.audio_data.cpu().detach().numpy()[0,0,:]\n",
    "plt.plot(signal1)\n",
    "ipd.Audio(signal1, rate=16000)"
   ]
  },
  {
   "cell_type": "code",
   "execution_count": null,
   "id": "0b42bb43-eb02-44a4-aaa4-fbb070ddef7f",
   "metadata": {},
   "outputs": [],
   "source": [
    "plt.title(\"Pistons N = 12\")\n",
    "\n",
    "datadir=dataroot+\"/16kHz/N12/PisWinAppBee_sparse_recon\"\n",
    "signal = AudioSignal(datadir + '/DSPistons--rate_exp-00.50--c-01--x-01.wav') # 2-second sound at 16kHz\n",
    "print(f'signal shape is: {signal.shape}')\n",
    "signal1=signal.audio_data.cpu().detach().numpy()[0,0,:]\n",
    "plt.plot(signal1)\n",
    "ipd.Audio(signal1, rate=16000)\n"
   ]
  },
  {
   "cell_type": "markdown",
   "id": "bd31cefc-6550-471a-a1b2-98ef59e25aaa",
   "metadata": {},
   "source": [
    "<div style=\"height: 6px; background-color: gray;\"></div>"
   ]
  },
  {
   "cell_type": "markdown",
   "id": "8650ac9e-1b3d-4288-8e77-a9e76dd78171",
   "metadata": {},
   "source": [
    "### Bees  "
   ]
  },
  {
   "cell_type": "code",
   "execution_count": null,
   "id": "cef30d90-bf88-4da8-97f3-9555c2a00f56",
   "metadata": {},
   "outputs": [],
   "source": [
    "plt.title(\"Bees N = 4\")\n",
    "\n",
    "datadir=dataroot+\"/16kHz/N4/PisWinAppBee_sparse_recon\"\n",
    "signal = AudioSignal(datadir + '/DSBugs--busybodyFreqFactor-00.50--c-01--x-01.wav') # 2-second sound at 16kHz\n",
    "print(f'signal shape is: {signal.shape}')\n",
    "signal1=signal.audio_data.cpu().detach().numpy()[0,0,:]\n",
    "plt.plot(signal1)\n",
    "ipd.Audio(signal1, rate=16000)"
   ]
  },
  {
   "cell_type": "code",
   "execution_count": null,
   "id": "a294227c-021f-4518-a7b7-c864b3d5dbb5",
   "metadata": {},
   "outputs": [],
   "source": [
    "plt.title(\"Bees N = 12\")\n",
    "\n",
    "datadir=dataroot+\"/16kHz/N12/PisWinAppBee_sparse_recon\"\n",
    "signal = AudioSignal(datadir + '/DSBugs--busybodyFreqFactor-00.50--c-01--x-01.wav') # 2-second sound at 16kHz\n",
    "print(f'signal shape is: {signal.shape}')\n",
    "signal1=signal.audio_data.cpu().detach().numpy()[0,0,:]\n",
    "plt.plot(signal1)\n",
    "ipd.Audio(signal1, rate=16000)"
   ]
  },
  {
   "cell_type": "code",
   "execution_count": null,
   "id": "592f82ec-bf15-4985-8903-6d07d3ece4f5",
   "metadata": {},
   "outputs": [],
   "source": []
  }
 ],
 "metadata": {
  "kernelspec": {
   "display_name": "Python 3 (ipykernel)",
   "language": "python",
   "name": "python3"
  },
  "language_info": {
   "codemirror_mode": {
    "name": "ipython",
    "version": 3
   },
   "file_extension": ".py",
   "mimetype": "text/x-python",
   "name": "python",
   "nbconvert_exporter": "python",
   "pygments_lexer": "ipython3",
   "version": "3.10.11"
  }
 },
 "nbformat": 4,
 "nbformat_minor": 5
}
