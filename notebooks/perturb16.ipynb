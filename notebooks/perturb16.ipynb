{
 "cells": [
  {
   "cell_type": "markdown",
   "id": "c760782b-ead0-439f-a4c6-489b2ea77951",
   "metadata": {},
   "source": [
    "### What does adding noise to dac codes do?"
   ]
  },
  {
   "cell_type": "code",
   "execution_count": 1,
   "id": "2cba4324-6733-4e5b-a34a-33a68c18f9da",
   "metadata": {},
   "outputs": [
    {
     "name": "stdout",
     "output_type": "stream",
     "text": [
      "/app\n"
     ]
    }
   ],
   "source": [
    "DEVICE='cpu' # either 'cuda' or 'cpu'\n",
    "%pwd\n",
    "%cd /app"
   ]
  },
  {
   "cell_type": "code",
   "execution_count": 2,
   "id": "5d2499f5-ee6b-4853-acb6-cceee542feaf",
   "metadata": {},
   "outputs": [],
   "source": [
    "import dac\n",
    "from audiotools import AudioSignal\n",
    "\n",
    "import torch\n",
    "\n",
    "import numpy as np\n",
    "import random\n",
    "import time"
   ]
  },
  {
   "cell_type": "code",
   "execution_count": 3,
   "id": "aa0497f7-32d0-4aeb-89f0-af8c8da9455e",
   "metadata": {},
   "outputs": [],
   "source": [
    "import numpy as np\n",
    "import matplotlib.pyplot as plt\n",
    "import soundfile as sf\n",
    "import IPython.display as ipd"
   ]
  },
  {
   "cell_type": "code",
   "execution_count": 4,
   "id": "69e518f9-5629-4ab2-84c7-5506579d5a83",
   "metadata": {},
   "outputs": [
    {
     "data": {
      "text/plain": [
       "device(type='cpu')"
      ]
     },
     "execution_count": 4,
     "metadata": {},
     "output_type": "execute_result"
    }
   ],
   "source": [
    "if DEVICE == 'cuda' :\n",
    "    torch.cuda.device_count()\n",
    "    torch.cuda.get_device_properties(0).total_memory/1e9\n",
    "    #torch.cuda.get_device_properties(1).total_memory/1e9\n",
    "    #device = torch.device(\"cuda:0\") # if the docker was started with --gpus all, then can choose here.\n",
    "device = torch.device(DEVICE) # if the docker was started with --gpus all, then can choose here.\n",
    "device"
   ]
  },
  {
   "cell_type": "code",
   "execution_count": 5,
   "id": "93df1cca-b684-46e7-9d18-8c019034da9d",
   "metadata": {},
   "outputs": [
    {
     "name": "stderr",
     "output_type": "stream",
     "text": [
      "/usr/local/lib/python3.10/dist-packages/torch/nn/utils/weight_norm.py:143: FutureWarning: `torch.nn.utils.weight_norm` is deprecated in favor of `torch.nn.utils.parametrizations.weight_norm`.\n",
      "  WeightNorm.apply(module, name, dim)\n"
     ]
    }
   ],
   "source": [
    "model_path = dac.utils.download(model_type=\"16khz\") \n",
    "wavefilepath=\"dacdevdata/16kHz/N12/PisWinAppBee_sparse_recon/\"\n",
    "sample_length=16000  # will shorten input files to save memory\n",
    "\n",
    "### This model doesn't sound as good - because it was trained on different data???\n",
    "#model_path = \"/scratch/codecs/codec.pth\" # /the default model from vampnet!\n",
    "model = dac.DAC.load(model_path)\n",
    "model.to(device); #wanna see the model? remove the semicolon"
   ]
  },
  {
   "cell_type": "markdown",
   "id": "d8d75681-9a6a-49cc-8620-e838ca16079e",
   "metadata": {},
   "source": [
    "<div style=\"height: 10px; background-color: blue;\"></div>\n",
    "<span style=\"font-size: 24px; color:blue\">Utils </span>"
   ]
  },
  {
   "cell_type": "code",
   "execution_count": 6,
   "id": "2f90c229-d8ea-491b-aedc-c256c686a54d",
   "metadata": {},
   "outputs": [],
   "source": [
    "import torch\n",
    "\"\"\"\n",
    "    Interpolates and interleaves vectors within the input tensor.\n",
    "    Basically \"upsampling\" by inserting interpolated vectors between neighbors in the input.\n",
    "\n",
    "    Args:\n",
    "        input_tensor (torch.Tensor): A PyTorch tensor with shape [1, a, b].\n",
    "\n",
    "    Returns:\n",
    "        torch.Tensor: A tensor with shape [1, a, 2*b - 1], where vectors are interpolated\n",
    "        and interleaved with the original vectors along the last dimension.\n",
    "\n",
    "    Example:\n",
    "        >>> input_tensor = torch.randn(1, 3, 4)\n",
    "        >>> output_tensor = interpolate_and_interleave(input_tensor)\n",
    "\"\"\"\n",
    "def interpolate_and_interleave(input_tensor):\n",
    "    # Get the shape of the input tensor\n",
    "    input_shape = input_tensor.shape\n",
    "\n",
    "    # Compute vectors halfway between neighbors\n",
    "    output_vectors = 0.5 * (input_tensor[:, :, :-1] + input_tensor[:, :, 1:])\n",
    "\n",
    "    # Create a new tensor with the correct shape [1, a, 2*b - 1]\n",
    "    interleaved_tensor = torch.empty((input_shape[0], input_shape[1], 2 * input_shape[2] - 1),\n",
    "                                     dtype=input_tensor.dtype, device=input_tensor.device)\n",
    "\n",
    "    # Copy input vectors and interpolated vectors to the new tensor\n",
    "    interleaved_tensor[:, :, ::2] = input_tensor\n",
    "    interleaved_tensor[:, :, 1::2] = output_vectors\n",
    "\n",
    "    return interleaved_tensor\n"
   ]
  },
  {
   "cell_type": "code",
   "execution_count": 7,
   "id": "544582ba-6a27-4930-ba80-3e3856afe83b",
   "metadata": {},
   "outputs": [
    {
     "name": "stdout",
     "output_type": "stream",
     "text": [
      "tensor([[[ 1.3102, -0.4731, -0.2394, -0.5106]]])\n",
      "tensor([[[ 1.3102,  0.4186, -0.4731, -0.3562, -0.2394, -0.3750, -0.5106]]])\n"
     ]
    }
   ],
   "source": [
    "#Example\n",
    "input_tensor = torch.randn(1, 1, 4)\n",
    "print(input_tensor)\n",
    "output_tensor = interpolate_and_interleave(input_tensor)\n",
    "print(output_tensor)"
   ]
  },
  {
   "cell_type": "code",
   "execution_count": 8,
   "id": "12bebbe5-8a7c-44be-b5e2-e9c5749a6cea",
   "metadata": {},
   "outputs": [],
   "source": [
    "#####    CHOOSE A SOUND\n",
    "\n",
    "#snd2='/DSApplause--numClappers_exp-00.50--c-01--x-01.wav' \n",
    "#snd2='/DSPistons--rate_exp-00.50--c-01--x-01.wav'\n",
    "snd2='DSBugs--busybodyFreqFactor-00.50--c-01--x-01.wav' #'/DSBugs--busybodyFreqFactor-00.50.wav'\n",
    "#snd2='/DSWind--strength-00.50--c-01--x-01.wav'\n"
   ]
  },
  {
   "cell_type": "markdown",
   "id": "10e3c1a3-7126-4f6d-a0ea-c9f11e4c553f",
   "metadata": {},
   "source": [
    "<div style=\"height: 10px; background-color: blue;\"></div>\n",
    "<span style=\"font-size: 24px; color:blue\">Load a file and code it</span>"
   ]
  },
  {
   "cell_type": "code",
   "execution_count": 9,
   "id": "c164bcd9-af27-4f42-9962-5771a41fd4a0",
   "metadata": {},
   "outputs": [
    {
     "name": "stdout",
     "output_type": "stream",
     "text": [
      "bee_x is tensor([[[0.0403, 0.0438, 0.0412,  ..., 0.1259, 0.1339, 0.1411]]]) with shape torch.Size([1, 1, 16000])\n",
      "### ENCODE ---  bee_z is tensor([[[-4.0137, -7.5234,  1.3160,  ...,  1.5690, -2.2619, -2.5634],\n",
      "         [ 2.4781,  2.2357, -5.8321,  ...,  5.9433,  0.6475,  1.5625],\n",
      "         [-4.7342, -4.2328,  1.4892,  ..., -5.5452, -0.7169, -7.3004],\n",
      "         ...,\n",
      "         [-0.5590,  4.1461,  0.1514,  ..., -2.3488,  3.0828,  2.4457],\n",
      "         [-5.2625, -2.7701, -4.7593,  ..., -1.5464, -3.0690, -0.0872],\n",
      "         [ 6.3632, -1.2465,  2.7457,  ..., -3.0642, -7.4089, -7.1540]]]) with shape torch.Size([1, 1024, 50])\n",
      "### ENCODE ---  bee_codes is tensor([[[ 301,  118,  118,  575,  190,  243,  742,  878,  990,  990,  990,\n",
      "           990,  420,  250,  479,  708,  746,  742,  662,  742,   95,  271,\n",
      "           338,  551,  338,  551,  169,  293,  720,  491,  382,  595,  254,\n",
      "           626,  111,  293,  746,  575,  382,  812,  165,  662,  662,  342,\n",
      "           190, 1013,  685,  533,  751,   52],\n",
      "         [ 679,  227,   14,   71,  311,  330,  891,  626,  983,  191,  692,\n",
      "           692,  853,  985,  810,  910,  120,  330,  568,  659,  275,  577,\n",
      "           887,  778,  338,  778,  690,  853,  526,  269,  489,   38,  347,\n",
      "           364,  569,  387,  806,    5,  979,  653,  664,  740,  837,  223,\n",
      "           934,  411,  796,  527,  762,  350],\n",
      "         [ 299,  298,  728,  170,  845,  701,  969,  993,  748,  307,  527,\n",
      "          1010,  979,  618,  980,  922,  960,  105,   71,  404,  853,  789,\n",
      "           480,    3,  340,  867,  487, 1015,  357,  422,  363,  641,  921,\n",
      "            39,  829,  849,  396,  297,   59,  191,  316,  280,  251,  881,\n",
      "           146,  210,  443,  603,  829,  799],\n",
      "         [ 976,  192, 1004,  141,  166,  515,  636,  690,  389,  853,  756,\n",
      "           239,  884,  592,  457,  652,  463,  963,  336,  829,  107,  292,\n",
      "          1009,  427,  194,  902,  521,  690,  241,  557,  226,  276,  977,\n",
      "           494,  969,  136,  817,  166,  773,  569,  881, 1022,  982,  558,\n",
      "           436,  792,  328,  939,  205,  927],\n",
      "         [ 475,  844,  487,  551,   23,  636,  764,  827,  471,  555,  768,\n",
      "            65,  255,  764,  227,  488,  431,   59,  955,  769,  907,  478,\n",
      "           961,  241,  341,  279,   71,   18,  104,  197,  326,  958,  524,\n",
      "           684,  271,  594,  746,  254,  173,  568,  348,  675,    4,  447,\n",
      "           731,   47,  307,   12,   33,  427],\n",
      "         [ 211, 1010,  631,   83,  904,  165,  519,  787, 1022,  776,   12,\n",
      "           868,  791,  763,  944,  549,  209,  554,  656,  274,  393,  274,\n",
      "           504,   90,  614,  899,  988,  183,  887,  613,  957,  533,  747,\n",
      "           527,  777,  975,  499,  485,  654,   80,  962,  698,  498,  148,\n",
      "           130,  677,  256,  347,   59,  376],\n",
      "         [ 846,  252,  189,    3,  708,  194,   16,  799,  984,  296,  547,\n",
      "           800,  610,  903,  165,  267,   72,  451,  329,  102,  219,  547,\n",
      "           134,  699,  365,  369, 1020,  944,  690,  708,  267,   73,  350,\n",
      "           763,  117,  957,  560,  589,  160,  261,  800,  610,  366,  641,\n",
      "           276,  215,  690,  909,  296,  369],\n",
      "         [ 723,  939,  226,  107,  963,  557,  523,  542,  675,  518,   62,\n",
      "           445,  720,  361,  511,  264,   10,  447,    2,  616,  680,  305,\n",
      "           166,  505,  539,  142,  960,  147,  141,  137,  876,  776,  771,\n",
      "           988,  369,  828,  435,  445,  744,  117,  306,  158,  711,   90,\n",
      "           687,  674,  306,  892,  705,  387],\n",
      "         [  68,  273,  833,  214,  916,  496,  404,  754,  479,  526,  334,\n",
      "          1022,  378,  414,   74,  119,   20,  761,  528,   60,  171,  531,\n",
      "           540,  284,  927,  383,  382,  374,  352,  403,  807,  934,  398,\n",
      "           125,   54,  543,  119,  450,  319,  442,   16,   62,   55,  733,\n",
      "           105,    9,  133,  446,  353,  994],\n",
      "         [ 473,  237,  703,  741,  642,  649,  232,  268, 1011,  734,  445,\n",
      "           318,  697,  128, 1022,  182,  878,  589,  102,  591,  676,  186,\n",
      "           749,  352,  264,  337,  800,   85,  999,  656,  324,  458,  751,\n",
      "           918,  695,  832,  513,  867,  752,  877,  306,  988,  324,   70,\n",
      "           835,  688,  712,  721,  941,  636],\n",
      "         [ 203,  967,  512,  930,  857,  998,  374,  214,  458,  635,  845,\n",
      "          1002,  956,  607,  463,  210,  173,  679,  107,  210,  285,  930,\n",
      "           542,  865,  930,  184,  715,  756,  847,  847,   96,  749,  152,\n",
      "           532,  735,  542,  483,  932,  848,  160,   25,  496, 1009,  134,\n",
      "           258,   57,  367,  505,  333,  816],\n",
      "         [ 730,  974,  627,  528,  706,  198,  967,  620,  673,  495,  553,\n",
      "           480,  188,  486,  115,    7,  565,  288,  371,  462,  580,  555,\n",
      "            65,    4,  544,  936,  143,  765,  968,  887,  251,  417,  113,\n",
      "           633,  201,  738,   94,  604,   20,  584,  574,  414,  566,  679,\n",
      "           920,  941,  546,  301,  745,  403]]]) with shape torch.Size([1, 12, 50])\n",
      "### ENCODE ---  bee_latents is tensor([[[-0.7395, -1.7481, -3.4929,  ..., -3.0287, -2.6201, -1.7698],\n",
      "         [-0.5797, -2.6002, -4.2410,  ...,  1.6504, -2.1784, -1.4534],\n",
      "         [ 2.6936,  4.1317,  3.1374,  ...,  1.5970, -1.5203,  0.3902],\n",
      "         ...,\n",
      "         [-3.3149, -2.3015, -3.1877,  ...,  0.6471, -1.2691,  0.3875],\n",
      "         [-0.0447,  0.1495,  4.3249,  ...,  1.1793,  3.8614,  0.1475],\n",
      "         [ 0.5455, -1.2962, -0.5782,  ..., -4.1612,  0.1605, -1.0200]]]) with shape torch.Size([1, 96, 50])\n",
      "### DECODE ---  beerecon is tensor([[[-0.0079, -0.0087, -0.0150,  ...,  0.0414,  0.0343,  0.0128]]]) with shape torch.Size([1, 1, 15992])\n",
      "### ENCODE --- recon_z.shape = torch.Size([1, 1024, 50]),  recon_codes.shape = torch.Size([1, 12, 50]), recon_latents.shape = torch.Size([1, 96, 50])\n",
      "### DECODE ---  beerecon2 is tensor([[[-0.0153, -0.0146, -0.0158,  ...,  0.0292,  0.0192, -0.0022]]]) with shape torch.Size([1, 1, 15992])\n"
     ]
    }
   ],
   "source": [
    "#first load a wave file, \n",
    "bee = AudioSignal(wavefilepath + snd2) # 2-second sound at 16kHz\n",
    "bee = bee[0,0,: sample_length] # cortado, otherwise the computation will bust memory\n",
    "\n",
    "\n",
    "# #bee_compressed = model.compress(bee)\n",
    "# #print(f'bee_compressed.codes.shape = {bee_compressed.codes.shape}')\n",
    "# #print(bee_compressed)\n",
    "\n",
    "#get the z vectors that we can use to get a \"reconstructed\" version (because we will be also reconstructing from artifical z's later, and want to have the padding, etc all be the same between the original and the artifical sound)\n",
    "bee.to(model.device)\n",
    "bee_x = model.preprocess(bee.audio_data, bee.sample_rate)\n",
    "\n",
    "print(f'bee_x is {bee_x} with shape {bee_x.shape}')\n",
    "\n",
    "########  ENCODE\n",
    "with torch.no_grad():\n",
    "    bee_z, bee_codes, bee_latents, _, _ = model.encode(bee_x) # , n_quantizers=1) # model.encode(bee_x, 4)\n",
    "print(f'### ENCODE ---  bee_z is {bee_z} with shape {bee_z.shape}')\n",
    "print(f'### ENCODE ---  bee_codes is {bee_codes} with shape {bee_codes.shape}')\n",
    "print(f'### ENCODE ---  bee_latents is {bee_latents} with shape {bee_latents.shape}')\n",
    "########  DECODE\n",
    "with torch.no_grad():\n",
    "    beerecon = model.decode(bee_z) # now we have something that we can use to compare with artificial z vectors\n",
    "print(f'### DECODE ---  beerecon is {beerecon} with shape {beerecon.shape}')\n",
    "\n",
    "\n",
    "# bee.to(model.device)\n",
    "# bee_x = model.preprocess(bee.audio_data, bee.sample_rate)\n",
    "\n",
    "########  ENCODE\n",
    "with torch.no_grad():\n",
    "    recon_z, recon_codes, recon_latents, _, _ = model.encode(torch.cat((beerecon, torch.zeros(1, 1, 4, device=device)), dim=2)) # , n_quantizers=1) # model.encode(bee_x, 4)\n",
    "print(f'### ENCODE --- recon_z.shape = {recon_z.shape},  recon_codes.shape = {recon_codes.shape}, recon_latents.shape = {recon_latents.shape}')\n",
    "\n",
    "########  DECODE\n",
    "with torch.no_grad():\n",
    "    beerecon2 = model.decode(recon_z) # now we have something that we can use to compare with artificial z vectors\n",
    "print(f'### DECODE ---  beerecon2 is {beerecon2} with shape {beerecon2.shape}')\n",
    "\n",
    "\n",
    "\n",
    "# bee_compressed = model.compress(beerecon)\n",
    "# print(bee_compressed)\n",
    "# bee_compressed.shape"
   ]
  },
  {
   "cell_type": "code",
   "execution_count": 10,
   "id": "16972498-6aff-4614-8083-5394198e2075",
   "metadata": {},
   "outputs": [
    {
     "name": "stdout",
     "output_type": "stream",
     "text": [
      "bee_z.shape = torch.Size([1, 1024, 50])\n",
      "bee_z 1 time slize slice = tensor([ 1.1735, -0.4478, -3.7594,  ..., -2.7554, -1.4403, -7.4421])\n",
      "bee_codes.shape = torch.Size([1, 12, 50])\n"
     ]
    }
   ],
   "source": [
    "bee.to(model.device)\n",
    "bee_x = model.preprocess(bee.audio_data, bee.sample_rate)\n",
    "with torch.no_grad():\n",
    "    bee_z, bee_codes, bee_latents, _, _ = model.encode(bee_x, n_quantizers=1) # model.encode(bee_x, 4)\n",
    "\n",
    "print(f'bee_z.shape = {bee_z.shape}')\n",
    "print(f'bee_z 1 time slize slice = {bee_z[0,:,40]}')\n",
    "print(f'bee_codes.shape = {bee_codes.shape}')"
   ]
  },
  {
   "cell_type": "code",
   "execution_count": 11,
   "id": "f2c9da79-ee2d-4645-914e-663b8edcd047",
   "metadata": {},
   "outputs": [
    {
     "name": "stdout",
     "output_type": "stream",
     "text": [
      "Shape of reconstructed signal is torch.Size([1, 1, 15992])\n"
     ]
    }
   ],
   "source": [
    "beerecon = model.decode(bee_z)\n",
    "print(f'Shape of reconstructed signal is {beerecon.shape}')\n",
    "\n",
    "# beereconsignal = beerecon[0,0,:].cpu().detach().numpy()\n",
    "# plt.plot(beereconsignal)\n",
    "# ipd.Audio(beereconsignal, rate=44100)"
   ]
  },
  {
   "cell_type": "markdown",
   "id": "49d060c6-cb70-41a2-8167-5af1b0b726e8",
   "metadata": {},
   "source": [
    "<div style=\"height: 10px; background-color: blue;\"></div>\n",
    "<span style=\"font-size: 24px; color:blue\">Now mess with it and adjust the meta data to reflect the messing</span>"
   ]
  },
  {
   "cell_type": "code",
   "execution_count": 12,
   "id": "2aa0bf57-52e9-4423-ade7-adefa7dbcb59",
   "metadata": {},
   "outputs": [
    {
     "name": "stdout",
     "output_type": "stream",
     "text": [
      "sloebeerecon.shape is torch.Size([1, 1, 15992])..........bee.shape is torch.Size([1, 1, 16000])\n"
     ]
    },
    {
     "data": {
      "text/plain": [
       "DACFile(codes=tensor([[[ 962,  335,  118,   91,  575,  230,  169, 1019,   91,  662,  662,\n",
       "            91,  174,  914,  636,  169,   47,  169,  812,  519,   74,    2,\n",
       "           800,  271,  923,  551,  584,    2,  931,  577,  255,  718,  576,\n",
       "           837,  527,   30,  338,  181,   74,  708,  250,  169,  812,  812,\n",
       "           190,   59,  708,  387,   58,  707],\n",
       "         [ 987,  609,  773,  493,  631,  190,   53,   32,  345,   88,  711,\n",
       "           696,   47,  512,  857,  925,  429,  287,  139,  147,  857,  143,\n",
       "           345,  965,  327,  787,  180,  570,  969,  739,  682,  466,  931,\n",
       "           771,   63,  914,  818,  228,  100,  722,  717,  590,  783,  714,\n",
       "           338,   20,  782,  437,  570,  898],\n",
       "         [ 553,  915,  526,  835,  863,  484,  120,    5,  616,  441,  338,\n",
       "           830,  411,  132,  203,  185,  120,  601,  650,  863,  908,  824,\n",
       "            95,  961,  564,   47,  929,  222,  893,  855,  964,  427,  579,\n",
       "           804,  804,  586,  494,  650,   74,  831,  717,  357,  460,  282,\n",
       "            15,  608,  575,  914,  745,    0],\n",
       "         [ 401,  344,  977,  795,  571,  144,  185,  572,  817,  771,   45,\n",
       "           817,  614,  791,  170,  185,  848,  344,   94,  249, 1004,  338,\n",
       "           217,  311,  651, 1003,  791,   56,  721,  170,  337,  787,  728,\n",
       "           908,  344,  581,   74,  824,  476,  431,  890,   64,  202,  744,\n",
       "           928,  419,  291,  571,  217,  908],\n",
       "         [ 244,  686,  710,   78,  127,  252,  551,   23,  429,  786,  982,\n",
       "           698,  684,  127,  244,  979,  430, 1010,  686,  397,  427,  363,\n",
       "           141,  244,  450,  898,  663,  780,  807,  842,  807,  252,  807,\n",
       "           348,  427,  250,  409,  250,  372,  732,  127,  127,  898,  290,\n",
       "           427,  663,  709,  290,  164,  925],\n",
       "         [ 869,  614,  249,  920,  614,  889,  904,  278,  881,  881,  177,\n",
       "           786,  614,  553,  614,  881,  251,  222,  920,  143,  803,  604,\n",
       "           576,  199,  878,  836,  659,  249,  283,  841,  614,  614,  282,\n",
       "           851,  685,  539,  881,  254,  614,  614,  614,  785,  604,  199,\n",
       "           119,  283,  576,  614,  614,  752],\n",
       "         [ 509,   91,  868,  990,  372,  291,  785,  952,  722,  144,  652,\n",
       "            62,  584,  391,  338,  976,  750,  652,  548,  298,  864,  628,\n",
       "           313,  426,  313,  523,    4,  784,  358,   23,  952,  952,   80,\n",
       "           753,    7,  952, 1022,  351,  658,  144,  505,  897,  488,  562,\n",
       "           242,  140,  868,  510,  250,  644],\n",
       "         [   5,  602,  209,  538,  551,  817,  725,  529,  306,   89,  916,\n",
       "           808,  433,  925,  393,  259,  632,  690,  329,  622,  747,  279,\n",
       "           214,  688,  371,  876,  305,  747,  335,  306,  747,  263,  869,\n",
       "           507,  492,  652,  643,  496,  276,  885,  530,  551,  529,  912,\n",
       "           305,  817,  543,  912,  558,  865],\n",
       "         [  21,  157,  960,  905,  827,  746,   89,  554,   21,  224,  577,\n",
       "           977,  448,  201,   12,  977,  243,  460,  930,  725,  478,  437,\n",
       "            16,  325,  564,  317,  460,  303,  971,  686,  930,  150,   26,\n",
       "           577,   21,  797,  839,  239,  725,  664,  480,  519,  660,  754,\n",
       "           502,  805,   48,  950,  387,  460],\n",
       "         [ 597,   93,  561,  597,  257,  455,  339,  650,  112,  305,  408,\n",
       "             6,  734,  112,  279,  284,  229,  280,  504,  466,  407,  661,\n",
       "           868,   93,   74,  112,  919,  584,  955,  176,  945,  358,  911,\n",
       "           650,  650,  965,  135,  964,  112,  670,   89,  618,  397,  188,\n",
       "           197,  593,  196,  765, 1001,  531],\n",
       "         [ 693,  658,  472,  404,  921,  869,   95,  945,  289,  290,  616,\n",
       "           289,  779,  932,   51,  289,  602,  908,  945,   53,  172,   95,\n",
       "           253,  374,  781,  642,  425,  848,  292,  956,  231,  592,  792,\n",
       "           320,  389,  520,  523,  289,  945,  992,  392,  461,  472,  945,\n",
       "           472,  381,  100,  205,  658,  738],\n",
       "         [ 371,  902,  343,  719,  454,   95,  868,  440,  224,  719,  935,\n",
       "           196,  224,  839, 1001,  727,  993,  540,  729,  935,  298,  270,\n",
       "           868,  984,  454,  528,  134,  440,  980,  990,  586,  868,  207,\n",
       "           536,  525,  698,  975,  428,  411,  985,  935,  154,  920,  571,\n",
       "           639,   95,  498,  902,  841,  885]]]), chunk_length=50, original_length=15992, input_db=tensor([-12.1985]), channels=1, sample_rate=16000, padding=True, dac_version='1.0.0')"
      ]
     },
     "execution_count": 12,
     "metadata": {},
     "output_type": "execute_result"
    }
   ],
   "source": [
    "#First get tensors and signals we will need:\n",
    "\n",
    "#messmethod=\"INTERPOLATE\"\n",
    "#messmethod=\"CONTRACT\"\n",
    "#messmethod=\"EXPAND\"\n",
    "#messmethod=\"SHIFT\"\n",
    "messmethod=\"RANDPERTURB\"\n",
    "#messmethod=\"REVERSE\"\n",
    "\n",
    "if messmethod ==\"INTERPOLATE\" :\n",
    "    sloebee_z = interpolate_and_interleave(bee_z)\n",
    "    sloebee_z = sloebee_z[:,:, : int(bee_z.shape[2])] #run out of memory if too long, so shorten to original sound length\n",
    "elif messmethod==\"CONTRACT\" :\n",
    "     sloebee_z = .15*bee_z\n",
    "elif messmethod==\"EXPAND\" :\n",
    "     sloebee_z = 1.8*bee_z\n",
    "elif messmethod==\"SHIFT\" :\n",
    "     sloebee_z = bee_z+10\n",
    "elif messmethod==\"RANDPERTURB\" :\n",
    "     sloebee_z = bee_z+30*torch.rand_like(bee_z)\n",
    "elif messmethod==\"REVERSE\" :\n",
    "     sloebee_z = torch.flip(bee_z, dims=(2,))\n",
    "     #sloebee_z = bee_z\n",
    "    \n",
    "with torch.no_grad():\n",
    "    sloebeerecon = model.decode(sloebee_z)\n",
    "print(f'sloebeerecon.shape is {sloebeerecon.shape}..........bee.shape is {bee.shape}')\n",
    "sloebee=AudioSignal(sloebeerecon, sample_rate=16000)\n",
    "sloebee_compressed = model.compress(sloebee)\n",
    "sloebee_compressed"
   ]
  },
  {
   "cell_type": "code",
   "execution_count": 13,
   "id": "4f762c62-97b0-41de-8151-9cf505ec1d4b",
   "metadata": {},
   "outputs": [
    {
     "name": "stdout",
     "output_type": "stream",
     "text": [
      "sloebee_z.shape = torch.Size([1, 1024, 50])\n",
      "bee_z 1 time slize slice = tensor([ 1.1735, -0.4478, -3.7594,  ..., -2.7554, -1.4403, -7.4421])\n",
      "sloebee_z 1 time slize slice = tensor([21.6524,  0.0870, -1.7218,  ...,  3.2293, 13.9991,  6.0322])\n",
      "L2 Norm: 3920.217041015625\n"
     ]
    }
   ],
   "source": [
    "\n",
    "#-----------------------------------------------------------\n",
    "#A little analysis:\n",
    "print(f'sloebee_z.shape = {sloebee_z.shape}')\n",
    "print(f'bee_z 1 time slize slice = {bee_z[0,:,40]}')\n",
    "print(f'sloebee_z 1 time slize slice = {sloebee_z[0,:,40]}')\n",
    "\n",
    "l2_norm = torch.norm(bee_z - sloebee_z, 2)\n",
    "print(\"L2 Norm:\", l2_norm.item())\n",
    "\n",
    "\n",
    "# print(f'bee_compressed.codes.shape = {bee_compressed.codes.shape}')\n",
    "# print(f'sloebee_compressed.codes.shape = {sloebee_compressed.codes.shape}')\n",
    "\n",
    "# numcodebooks=1\n",
    "# t1=bee_compressed.codes[0,numcodebooks-1,:]\n",
    "# t2=sloebee_compressed.codes[0,numcodebooks-1,:]\n",
    "# same_elements = (t1 == t2).sum().item()\n",
    "# print(\"Ratio of codes that are the same in the {t1.numel()} elements that make up the first {numcodebooks} codeboods is \", same_elements/t1.numel())\n",
    "\n",
    "\n",
    "\n",
    "\n",
    "\n",
    "\n"
   ]
  },
  {
   "cell_type": "code",
   "execution_count": 14,
   "id": "2636a173-ec8e-43e9-be77-d20875dfcde6",
   "metadata": {},
   "outputs": [
    {
     "data": {
      "text/html": [
       "\n",
       "                <audio  controls=\"controls\" >\n",
       "                    <source src=\"data:audio/wav;base64,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\" type=\"audio/wav\" />\n",
       "                    Your browser does not support the audio element.\n",
       "                </audio>\n",
       "              "
      ],
      "text/plain": [
       "<IPython.lib.display.Audio object>"
      ]
     },
     "execution_count": 14,
     "metadata": {},
     "output_type": "execute_result"
    },
    {
     "data": {
      "image/png": "[encoded data removed]",
      "text/plain": [
       "<Figure size 640x480 with 1 Axes>"
      ]
     },
     "metadata": {},
     "output_type": "display_data"
    }
   ],
   "source": [
    "sloebeereconsignal = sloebeerecon[0,0,:].cpu().detach().numpy()\n",
    "\n",
    "plt.plot(sloebeereconsignal)\n",
    "ipd.Audio(sloebeereconsignal, rate=16000)"
   ]
  },
  {
   "cell_type": "code",
   "execution_count": null,
   "id": "73bc4000-4e32-4b7a-af85-ad8852d342e2",
   "metadata": {},
   "outputs": [],
   "source": []
  },
  {
   "cell_type": "code",
   "execution_count": 15,
   "id": "8b1560f9-4e3f-47da-94de-3cfe8cbea393",
   "metadata": {},
   "outputs": [],
   "source": [
    "# my_dac_file = dac.DACFile(\n",
    "#         codes=sloebee_z,\n",
    "#         chunk_length=bee_compressed.chunk_length,\n",
    "#         original_length=2*bee_compressed.original_length,\n",
    "#         input_db=bee_compressed.input_db,\n",
    "#         channels=bee_compressed.channels,\n",
    "#         sample_rate=bee_compressed.sample_rate,\n",
    "#         padding=bee_compressed.padding,\n",
    "#         dac_version=bee_compressed.dac_version,\n",
    "#     )"
   ]
  },
  {
   "cell_type": "code",
   "execution_count": null,
   "id": "12e31c2f-ecf0-47cc-8bb4-fe2721ab868c",
   "metadata": {},
   "outputs": [],
   "source": []
  }
 ],
 "metadata": {
  "kernelspec": {
   "display_name": "Python 3 (ipykernel)",
   "language": "python",
   "name": "python3"
  },
  "language_info": {
   "codemirror_mode": {
    "name": "ipython",
    "version": 3
   },
   "file_extension": ".py",
   "mimetype": "text/x-python",
   "name": "python",
   "nbconvert_exporter": "python",
   "pygments_lexer": "ipython3",
   "version": "3.10.12"
  }
 },
 "nbformat": 4,
 "nbformat_minor": 5
}
