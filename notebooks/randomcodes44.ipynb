{
 "cells": [
  {
   "cell_type": "code",
   "execution_count": null,
   "id": "cefaf8a9-2d4d-42a4-8370-e7ebef023786",
   "metadata": {},
   "outputs": [],
   "source": [
    "DEVICE='cpu' # either 'cuda' or 'cpu'\n",
    "\n",
    "%pwd\n",
    "%cd /app"
   ]
  },
  {
   "cell_type": "code",
   "execution_count": null,
   "id": "a1c19df4-52ee-4991-b801-4fe691e49c04",
   "metadata": {},
   "outputs": [],
   "source": [
    "import dac\n",
    "from audiotools import AudioSignal\n",
    "import torch\n",
    "import numpy as np\n",
    "import random\n",
    "import time\n",
    "import numpy as np\n",
    "import matplotlib.pyplot as plt\n",
    "import soundfile as sf\n",
    "import IPython.display as ipd"
   ]
  },
  {
   "cell_type": "code",
   "execution_count": null,
   "id": "94b1f43a-6a00-454e-9f18-8047b0c38bbd",
   "metadata": {},
   "outputs": [],
   "source": [
    "# Download a DAC model\n",
    "model_path = dac.utils.download(model_type=\"44khz\")\n",
    "model = dac.DAC.load(model_path)\n",
    "model.to(DEVICE); # model.to('cuda');"
   ]
  },
  {
   "cell_type": "markdown",
   "id": "c1a2f08c-a7d3-43f6-9b63-17974984b4a3",
   "metadata": {},
   "source": [
    "<div style=\"height: 10px; background-color: blue;\"></div>\n",
    "<span style=\"font-size: 24px; color:blue\">Randomizing codebook entries </span>\n"
   ]
  },
  {
   "cell_type": "code",
   "execution_count": null,
   "id": "caff264f-6f69-4014-91f0-a336501e2f6f",
   "metadata": {},
   "outputs": [],
   "source": [
    "# Takes a sequence of code vectors and decompresses them to audio\n",
    "\n",
    "def Codes2Audio(codes, numframes, verbose=0):\n",
    "    if verbose>=1 :\n",
    "        print(f'shape of code tensor is {codes.shape}')\n",
    "    if verbose>=10 :\n",
    "        print(codes)   \n",
    "\n",
    "    # Clip to preserve reconstruction sanity\n",
    "    if torch.any(codes > 1023) :\n",
    "        mask = codes > 1023\n",
    "        codes[mask] = 0\n",
    "        print(f'clipping some codebook entries to max 1023')\n",
    "    if torch.any(codes < 0) :\n",
    "        mask = codes < 0\n",
    "        codes[mask] = 0\n",
    "        print(f'clipping some codebook entries to min  0')\n",
    "\n",
    "    # I need to find more DAC documentation to understand these length unit parameters, but the are needed for the DACFile and seem to sork for reloading and decoding\n",
    "    chunklength=60  #this seems to work for most length factors > 4\n",
    "    assert numframes % 25 == 0, f'frames must be divisible by 25 (for some reason)' \n",
    "    olength=2466*(numframes//25)+1\n",
    "\n",
    "    #Create the DACFile datastructure, but no need to write to disk in order to decompress it\n",
    "    my_dac_file = dac.DACFile(\n",
    "            codes=codes,\n",
    "            chunk_length=chunklength,\n",
    "            original_length=olength,\n",
    "            input_db=-20,\n",
    "            channels=1,\n",
    "            sample_rate=44100,\n",
    "            padding=False,\n",
    "            dac_version='1.0.0',\n",
    "        )\n",
    "    \n",
    "    ydcompress = model.decompress(my_dac_file)\n",
    "    ysig=ydcompress.cpu().detach().numpy()[0,0,:]\n",
    "    return ysig"
   ]
  },
  {
   "cell_type": "markdown",
   "id": "c0535020-af31-4c10-bc34-df8a1340c2fb",
   "metadata": {},
   "source": [
    "### <font color='green'> Lets try to look at just at some random code sequences and the signal they would make. Dimensions are (B, Nq, T) </font>"
   ]
  },
  {
   "cell_type": "code",
   "execution_count": null,
   "id": "763d881a-5818-46fe-bd76-56c3b9c44db8",
   "metadata": {},
   "outputs": [],
   "source": [
    "# generate random codebook entries \n",
    "    # @a - lowest random value\n",
    "    # @b - highest random value\n",
    "    # @lengthfactor - for some reason, multiples of 25 frames seems to work \n",
    "    # @numcodebooks - the number of codebook indicies to use for each frame\n",
    "\n",
    "def codeMashRandom(a, b, numframes, numCodebooks=4,  verbose=0) :\n",
    "    # now make the code tensor\n",
    "    # a is range low, b is range high\n",
    "    baz = torch.randint(low=a, high=b, size=(1, numCodebooks, numframes)) #between 0 and 1023\n",
    "    return Codes2Audio(baz, numframes, verbose)\n",
    "\n",
    "#----------------------------------------------------------------------------------------\n",
    "# generate random codebook entries \n",
    "    # @a - lowest random value\n",
    "    # @b - step\n",
    "    # @lengthfactor - for some reason, multiples of 25 frames seems to work \n",
    "    # @numcodebooks - the number of codebook indicies to use for each frame\n",
    "\n",
    "    # Example: codeMashSequence(0, 1, 1200)\n",
    "    # shape of code tensor is torch.Size([1, 4, 1200])\n",
    "    # tensor([[[   0,    1,    2,  ..., 1197, 1198, 1199],\n",
    "    #          [   0,    1,    2,  ..., 1197, 1198, 1199],\n",
    "    #          [   0,    1,    2,  ..., 1197, 1198, 1199],\n",
    "    #          [   0,    1,    2,  ..., 1197, 1198, 1199]]])\n",
    "\n",
    "def codeMashSequence(a, b, numframes, numCodebooks=4,  verbose=0) :\n",
    "\n",
    "    #This increases code indexes with time, all codes the same at any time\n",
    "    # a is start, b is step\n",
    "    # Generate depth indices using torch.arange()\n",
    "    depth_indices = torch.arange(numframes).unsqueeze(0).unsqueeze(1)\n",
    "    # Broadcast depth indices to match the desired shape\n",
    "    broadcasted_indices = depth_indices.expand(1, numCodebooks, -1)\n",
    "    # Create the final 3D tensor\n",
    "    codes=broadcasted_indices*b+a\n",
    "\n",
    "    return Codes2Audio(codes, numframes, verbose)"
   ]
  },
  {
   "cell_type": "code",
   "execution_count": null,
   "id": "1d95f4ec-296a-4a10-ba11-68070847072d",
   "metadata": {
    "scrolled": true
   },
   "outputs": [],
   "source": [
    "#### And this sounds like .....\n",
    "ysig=codeMashRandom(0, 1023, 100*25, numCodebooks=4, verbose=10)\n",
    "# ysig = codeMashRandom(604, 605, 25*25,  numCodebooks=9, verbose=10)\n",
    "# ysig = codeMashSequence(0, 1, 48*25, verbose=10 )\n",
    "\n",
    "\n",
    "plt.plot(ysig)\n",
    "ipd.Audio(ysig, rate=44100)"
   ]
  },
  {
   "cell_type": "code",
   "execution_count": null,
   "id": "354501c7-378c-4dfa-8a1e-34708712da10",
   "metadata": {},
   "outputs": [],
   "source": [
    "# So lets string a bunch of them together.....\n",
    "\n",
    "framesperchunk=100\n",
    "sbuf=[]\n",
    "sdur=1 # sleep time in seconds\n",
    "\n",
    "start_time = time.time()\n",
    "for x in range(8,30):\n",
    "    \n",
    "    #SAVE ysig=codeMash(1010-10*x, 1013-10*x)\n",
    "    #SAVE ysig=codeMash(1010-4*x, 1013-3*x)\n",
    "    ysig=codeMashRandom(1000-x, 1003-x, framesperchunk)\n",
    "\n",
    "    # Can't get this to play in the loop.....\n",
    "    # ipd.Audio(audio_segment, rate=44100, autoplay=True)\n",
    "    # time.sleep(sdur+.1)\n",
    "    \n",
    "    sbuf.extend(ysig)\n",
    "end_time = time.time()\n",
    "\n",
    "print(f\"Codebook and audio generation time: {end_time - start_time} seconds\")\n",
    "print(f'sbuf.len={len(sbuf)}, sound is {len(sbuf)/44100} seconds long', flush=True)\n",
    "\n",
    "plt.plot(ysig) # just view last generated chunk of framesperchunk frames\n",
    "ipd.Audio(sbuf, rate=44100)"
   ]
  },
  {
   "cell_type": "markdown",
   "id": "df068751-8c52-4417-a4db-51d4fca9de6e",
   "metadata": {},
   "source": [
    "<div style=\"height: 10px; background-color: blue;\"></div>"
   ]
  },
  {
   "cell_type": "code",
   "execution_count": null,
   "id": "592f82ec-bf15-4985-8903-6d07d3ece4f5",
   "metadata": {},
   "outputs": [],
   "source": []
  }
 ],
 "metadata": {
  "kernelspec": {
   "display_name": "Python 3 (ipykernel)",
   "language": "python",
   "name": "python3"
  },
  "language_info": {
   "codemirror_mode": {
    "name": "ipython",
    "version": 3
   },
   "file_extension": ".py",
   "mimetype": "text/x-python",
   "name": "python",
   "nbconvert_exporter": "python",
   "pygments_lexer": "ipython3",
   "version": "3.10.12"
  }
 },
 "nbformat": 4,
 "nbformat_minor": 5
}
