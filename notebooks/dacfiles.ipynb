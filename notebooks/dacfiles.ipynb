{
 "cells": [
  {
   "cell_type": "markdown",
   "id": "1fc097b5-8866-470a-a545-99311b2aa26d",
   "metadata": {},
   "source": [
    "### <font color='blue'> Looking at DAC files \n",
    "\n",
    "* This notebook is just for trying out dataloading  \n",
    "* encoded with DAC (off line) using this command:\n",
    "```\n",
    "python3 -m dac encode  /scratch/syntex/PisWinAppBee_long_44/audio-train  --output /scratch/syntex/PisWinAppBee_long_44/dac-train --n_quantizers 4 --device \"cuda\"  --model_type \"44khz\" --model_tag \"latest\" --args.save /scratch/syntex/PisWinAppBee_long_44/dac_params.txt\n",
    "```\n",
    "</font>"
   ]
  },
  {
   "cell_type": "code",
   "execution_count": null,
   "id": "c11594a8-2c30-47c6-a0bd-359906138e54",
   "metadata": {},
   "outputs": [],
   "source": [
    "DEVICE='cpu' # either 'cuda' or 'cpu'\n",
    "\n",
    "%pwd\n",
    "%cd /app\n",
    "\n",
    "import dac\n",
    "from audiotools import AudioSignal\n",
    "\n",
    "import torch\n",
    "import numpy as np\n",
    "import matplotlib.pyplot as plt\n",
    "import soundfile as sf\n",
    "import IPython.display as ipd\n",
    "import math\n",
    "\n",
    "# and for creating a custom dataset and loader:\n",
    "from torch.utils.data import Dataset, DataLoader\n",
    "import os\n",
    "import dac\n",
    "\n",
    "from audiotools import AudioSignal"
   ]
  },
  {
   "cell_type": "code",
   "execution_count": null,
   "id": "6600954d-6a3e-422c-b89e-2d8131d94727",
   "metadata": {},
   "outputs": [],
   "source": [
    "print('__CUDNN VERSION:', torch.backends.cudnn.version())\n",
    "print('__Number CUDA Devices:', torch.cuda.device_count())\n",
    "\n",
    "if DEVICE == 'cuda' :\n",
    "    print(f'memeory on cuda 0 is  {torch.cuda.get_device_properties(0).total_memory/1e9}')\n",
    "    #print(f'memeory on cuda 1 is  { torch.cuda.get_device_properties(1).total_memory/1e9}')\n",
    "    print('__CUDA Device Name:',torch.cuda.get_device_name(0))\n",
    "    print('__CUDA Device Total Memory [GB]:',torch.cuda.get_device_properties(0).total_memory/1e9)\n",
    "\n",
    "device = torch.device(DEVICE) # if the docker was started with --gpus all, then can choose here.\n",
    "#device = torch.device('cpu') # if the docker was started with --gpus all, then can choose here\n",
    "device"
   ]
  },
  {
   "cell_type": "code",
   "execution_count": null,
   "id": "fcc578f0-a85e-44d6-9514-e50ba5187ad1",
   "metadata": {},
   "outputs": [],
   "source": [
    "model_path = dac.utils.download(model_type=\"44khz\") \n",
    "model = dac.DAC.load(model_path)\n",
    "\n",
    "model.to(device); #wanna see the model? remove the semicolon\n",
    "model.eval();  # need to be \"in eval mode\" in order to set the number of quantizers"
   ]
  },
  {
   "cell_type": "code",
   "execution_count": null,
   "id": "a0da2779-ddc2-459a-a226-10651db73b2c",
   "metadata": {},
   "outputs": [],
   "source": [
    "print(f'./{dataroot}/foo')"
   ]
  },
  {
   "cell_type": "markdown",
   "id": "a584c4b7-f02d-4d3d-8005-c9d6613a8286",
   "metadata": {},
   "source": [
    "<hr>"
   ]
  },
  {
   "cell_type": "code",
   "execution_count": null,
   "id": "09c98327-b601-4f30-9e51-ddba9bacd28d",
   "metadata": {},
   "outputs": [],
   "source": [
    "import shutil\n",
    "import os\n",
    "\n",
    "def setup_directory_and_copy_file(dest_dir, src_file):\n",
    "    shutil.rmtree(dest_dir, ignore_errors=True)  # Remove the directory if it exists\n",
    "    os.makedirs(dest_dir, exist_ok=True)  # Create the directory\n",
    "    shutil.copy(src_file, dest_dir)  # Copy the file\n",
    "\n",
    "dacdir= dataroot+'/foo'\n",
    "fpath=dataroot + \"/44kHz/N4/PisWinAppBee_sparse_dac/DSPistons--rate_exp-00.50.dac\"\n",
    "\n",
    "# Example usage\n",
    "setup_directory_and_copy_file(dacdir, fpath)\n",
    "\n"
   ]
  },
  {
   "cell_type": "code",
   "execution_count": null,
   "id": "a88d39c7-542f-4a1e-88eb-0ff312abf304",
   "metadata": {},
   "outputs": [],
   "source": [
    "!ls ./{dataroot}/foo"
   ]
  },
  {
   "cell_type": "markdown",
   "id": "e2f0b5ac-d79d-4db6-9443-87469ffec10e",
   "metadata": {},
   "source": [
    "<hr>"
   ]
  },
  {
   "cell_type": "code",
   "execution_count": null,
   "id": "0cd45ca2-5280-40cc-9abb-dc85bd0b43f9",
   "metadata": {},
   "outputs": [],
   "source": [
    "with torch.no_grad():    \n",
    "    dacfile = dac.DACFile.load(fpath)\n",
    "    # FIRST - Decompress it back to an AudioSignal\\ from codes to z (1024) to signal   \n",
    "    print(f'dacfile.codes shape is: {dacfile.codes.shape}')\n",
    "\n",
    "    # SECOND - Decompress directly using model.decompress   \n",
    "    yAudioSig = model.decompress(dacfile)  #an AudioSignal\n",
    "\n"
   ]
  },
  {
   "cell_type": "code",
   "execution_count": null,
   "id": "ff96bd5d-42e0-4e77-811b-93fb0b8e2791",
   "metadata": {},
   "outputs": [],
   "source": [
    "dacfile"
   ]
  },
  {
   "cell_type": "code",
   "execution_count": null,
   "id": "e52195d7-6053-49cc-b480-a80771bd9be4",
   "metadata": {},
   "outputs": [],
   "source": [
    "# AudioSignal docs: https://descriptinc.github.io/audiotools/readme.html\n",
    "yAudioSig.widget()\n",
    "\n",
    "yAudioSig.audio_data.shape\t\n",
    "\n",
    "# xsig=xTensor.cpu().detach().numpy()[0,0,:]\n",
    "# plt.plot(xsig)\n",
    "# ipd.Audio(xsig, rate=44100)"
   ]
  },
  {
   "cell_type": "code",
   "execution_count": null,
   "id": "405303b0-197f-443a-aa29-335d4bbd3074",
   "metadata": {},
   "outputs": [],
   "source": [
    "220500/44100"
   ]
  },
  {
   "cell_type": "markdown",
   "id": "52e41bae-5e33-4e69-b23c-e4aa70884d99",
   "metadata": {},
   "source": [
    "### <font color='blue'> Creating a custom dataset \n",
    "</font>"
   ]
  },
  {
   "cell_type": "code",
   "execution_count": null,
   "id": "30499cc3-3951-4b86-afe0-9f2583b126a7",
   "metadata": {},
   "outputs": [],
   "source": [
    "class CustomDACDataset(Dataset):\n",
    "    def __init__(self, data_dir):\n",
    "        \"\"\"\n",
    "        Args:\n",
    "            data_dir (string): Directory with all the data files.\n",
    "        \"\"\"\n",
    "        self.data_dir = data_dir\n",
    "        self.file_names = os.listdir(data_dir)\n",
    "\n",
    "    def __len__(self):\n",
    "        return len(self.file_names)\n",
    "\n",
    "    def __getitem__(self, idx):\n",
    "        fpath = os.path.join(self.data_dir, self.file_names[idx])\n",
    "        dacfile=dac.DACFile.load(fpath)  # Load the data file\n",
    "        data = dacfile.codes\n",
    "\n",
    "        # Assuming data is a tensor of shape [1, N, T]\n",
    "        # We remove the first dimension to get a tensor of shape [N, T]\n",
    "        data = data.squeeze(0)\n",
    "\n",
    "        # The input is the data itself\n",
    "        input_data = data[:, :-1]  # All time steps except the last one\n",
    "        # The target is the data shifted by one time step\n",
    "        target_data = data[:, 1:]  # All time steps except the first one\n",
    "\n",
    "        # Transpose the last dimensions so we get [T, N] for the transformer\n",
    "        return input_data.transpose(0, 1), target_data.transpose(0, 1)\n"
   ]
  },
  {
   "cell_type": "code",
   "execution_count": null,
   "id": "170bca4f-52c9-4ad1-bc5c-e8639d6643cd",
   "metadata": {},
   "outputs": [],
   "source": [
    "# Define the directory where the data files are stored\n",
    "data_dir = dacdir\n",
    "\n",
    "# Create an instance of the dataset\n",
    "dataset = CustomDACDataset(data_dir=data_dir)\n",
    "\n",
    "# Create a DataLoader\n",
    "dataloader = DataLoader(dataset, batch_size=32, shuffle=True)\n",
    "\n",
    "# Example of iterating over the DataLoader\n",
    "for batch_idx, (inputs, targets) in enumerate(dataloader):\n",
    "    pass\n",
    "    # Your training code here\n",
    "    # inputs: batch of input data of shape [batch_size, N, T-1]\n",
    "    # targets: corresponding batch of target data of shape [batch_size, N, T-1]\n",
    "    \n",
    "    #print(f\"Batch {batch_idx + 1}\")\n",
    "    #print(f\"Inputs shape: {inputs.shape}\")\n",
    "    #print(f\"Targets shape: {targets.shape}\")\n",
    "print(f\"Batch {batch_idx + 1}\")"
   ]
  },
  {
   "cell_type": "code",
   "execution_count": null,
   "id": "0178f82b-952d-4b12-a0b0-cf92b9d37084",
   "metadata": {},
   "outputs": [],
   "source": []
  },
  {
   "cell_type": "code",
   "execution_count": null,
   "id": "856edc01-a73b-48a3-9245-1c7e8de64724",
   "metadata": {},
   "outputs": [],
   "source": []
  }
 ],
 "metadata": {
  "kernelspec": {
   "display_name": "Python 3 (ipykernel)",
   "language": "python",
   "name": "python3"
  },
  "language_info": {
   "codemirror_mode": {
    "name": "ipython",
    "version": 3
   },
   "file_extension": ".py",
   "mimetype": "text/x-python",
   "name": "python",
   "nbconvert_exporter": "python",
   "pygments_lexer": "ipython3",
   "version": "3.10.12"
  }
 },
 "nbformat": 4,
 "nbformat_minor": 5
}
